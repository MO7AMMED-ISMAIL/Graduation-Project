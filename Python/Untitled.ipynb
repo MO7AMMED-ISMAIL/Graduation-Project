{
 "cells": [
  {
   "cell_type": "code",
   "execution_count": 5,
   "id": "ad968f84",
   "metadata": {},
   "outputs": [],
   "source": [
    "import serial\n",
    "import time"
   ]
  },
  {
   "cell_type": "code",
   "execution_count": 11,
   "id": "9391ab7d",
   "metadata": {},
   "outputs": [],
   "source": [
    "ser = serial.Serial('COM3', 9600)"
   ]
  },
  {
   "cell_type": "code",
   "execution_count": null,
   "id": "be94e938",
   "metadata": {},
   "outputs": [],
   "source": [
    "ser.clo"
   ]
  },
  {
   "cell_type": "code",
   "execution_count": null,
   "id": "1e6cdd68",
   "metadata": {},
   "outputs": [],
   "source": []
  },
  {
   "cell_type": "code",
   "execution_count": null,
   "id": "06534e51",
   "metadata": {},
   "outputs": [],
   "source": []
  },
  {
   "cell_type": "code",
   "execution_count": null,
   "id": "df70f017",
   "metadata": {},
   "outputs": [],
   "source": []
  },
  {
   "cell_type": "code",
   "execution_count": null,
   "id": "7b8571d1",
   "metadata": {},
   "outputs": [],
   "source": []
  },
  {
   "cell_type": "code",
   "execution_count": null,
   "id": "0c7e3b56",
   "metadata": {},
   "outputs": [],
   "source": []
  }
 ],
 "metadata": {
  "kernelspec": {
   "display_name": "Python 3 (ipykernel)",
   "language": "python",
   "name": "python3"
  },
  "language_info": {
   "codemirror_mode": {
    "name": "ipython",
    "version": 3
   },
   "file_extension": ".py",
   "mimetype": "text/x-python",
   "name": "python",
   "nbconvert_exporter": "python",
   "pygments_lexer": "ipython3",
   "version": "3.9.13"
  }
 },
 "nbformat": 4,
 "nbformat_minor": 5
}
