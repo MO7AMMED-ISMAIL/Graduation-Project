{
 "cells": [
  {
   "cell_type": "code",
   "execution_count": 1,
   "id": "646d3670",
   "metadata": {},
   "outputs": [],
   "source": [
    "import serial\n",
    "import mysql.connector\n",
    "import re\n",
    "#37526543"
   ]
  },
  {
   "cell_type": "code",
   "execution_count": 8,
   "id": "65f145de",
   "metadata": {},
   "outputs": [],
   "source": [
    "ser = serial.Serial('COM3',9600)"
   ]
  },
  {
   "cell_type": "code",
   "execution_count": 9,
   "id": "d9bf88d3",
   "metadata": {},
   "outputs": [
    {
     "name": "stdout",
     "output_type": "stream",
     "text": [
      "Enter command (0 for OFF, 1 for ON): 1\n"
     ]
    }
   ],
   "source": [
    "data = ser.readline()\n",
    "data = str(data)\n",
    "userPassword = re.findall('[0-9]+',data)\n",
    "userPassword = ' '.join([str(num) for num in userPassword])\n",
    "if userPassword == '37526543':\n",
    "    command = input(\"Enter command (0 for OFF, 1 for ON): \")\n",
    "    ser.write(command.encode())\n",
    "else:\n",
    "    command = input(\"Enter command (0 for OFF, 1 for ON): \")\n",
    "    ser.write(command.encode())"
   ]
  },
  {
   "cell_type": "code",
   "execution_count": 6,
   "id": "e2a25153",
   "metadata": {},
   "outputs": [
    {
     "data": {
      "text/plain": [
       "'37526543'"
      ]
     },
     "execution_count": 6,
     "metadata": {},
     "output_type": "execute_result"
    }
   ],
   "source": [
    "userPassword"
   ]
  },
  {
   "cell_type": "code",
   "execution_count": 31,
   "id": "ba02768d",
   "metadata": {
    "scrolled": true
   },
   "outputs": [],
   "source": [
    "##### function TO check pass(pass)\n",
    "mydb = mysql.connector.connect(\n",
    "        host = \"localhost\",\n",
    "        user = \"root\",\n",
    "        passwd = \"\",\n",
    "        database = \"ASPS\",\n",
    ")\n",
    "myCourser = mydb.cursor()\n",
    "def SelectUser(passArd):\n",
    "    sql = \"SELECT * FROM `users` WHERE user_pass_ard = %s\"\n",
    "    adr = (passArd,)\n",
    "    myCourser.execute(sql,adr)\n",
    "    myresult = myCourser.fetchone()\n",
    "    if myresult != None:\n",
    "        ser.write(b'1')\n",
    "    else: ser.write(b'0')\n",
    "SelectUser(userPassword)"
   ]
  },
  {
   "cell_type": "code",
   "execution_count": null,
   "id": "3017f152",
   "metadata": {},
   "outputs": [],
   "source": [
    "##### function to FACE_REG(img)\n",
    "\n",
    "\n",
    "\n",
    "\n",
    "\n",
    "\n",
    "\n",
    "\n",
    "\n",
    "\n"
   ]
  },
  {
   "cell_type": "code",
   "execution_count": null,
   "id": "7beae8a5",
   "metadata": {},
   "outputs": [],
   "source": [
    "ser.close()\n",
    "#--------------------------------------------------------------"
   ]
  },
  {
   "cell_type": "code",
   "execution_count": 1,
   "id": "d909fd1f",
   "metadata": {},
   "outputs": [],
   "source": [
    "import serial\n",
    "import time"
   ]
  },
  {
   "cell_type": "code",
   "execution_count": 2,
   "id": "85a0ba70",
   "metadata": {},
   "outputs": [],
   "source": [
    "ser = serial.Serial('COM3',9600)"
   ]
  },
  {
   "cell_type": "code",
   "execution_count": 3,
   "id": "cb692907",
   "metadata": {},
   "outputs": [],
   "source": [
    "def read_keypad():\n",
    "    ser.write(b'r')\n",
    "    return ser.readline().decode().strip()"
   ]
  },
  {
   "cell_type": "code",
   "execution_count": null,
   "id": "0d1d8bdc",
   "metadata": {},
   "outputs": [],
   "source": []
  },
  {
   "cell_type": "code",
   "execution_count": null,
   "id": "76c0913e",
   "metadata": {},
   "outputs": [],
   "source": []
  },
  {
   "cell_type": "code",
   "execution_count": null,
   "id": "3abc066e",
   "metadata": {},
   "outputs": [],
   "source": []
  },
  {
   "cell_type": "code",
   "execution_count": null,
   "id": "32cd6995",
   "metadata": {},
   "outputs": [],
   "source": []
  },
  {
   "cell_type": "code",
   "execution_count": null,
   "id": "b34f974e",
   "metadata": {},
   "outputs": [],
   "source": []
  }
 ],
 "metadata": {
  "kernelspec": {
   "display_name": "Python 3 (ipykernel)",
   "language": "python",
   "name": "python3"
  },
  "language_info": {
   "codemirror_mode": {
    "name": "ipython",
    "version": 3
   },
   "file_extension": ".py",
   "mimetype": "text/x-python",
   "name": "python",
   "nbconvert_exporter": "python",
   "pygments_lexer": "ipython3",
   "version": "3.9.13"
  }
 },
 "nbformat": 4,
 "nbformat_minor": 5
}
