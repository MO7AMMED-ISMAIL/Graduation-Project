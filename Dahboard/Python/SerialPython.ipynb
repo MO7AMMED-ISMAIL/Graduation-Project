{
 "cells": [
  {
   "cell_type": "code",
   "execution_count": 1,
   "id": "646d3670",
   "metadata": {},
   "outputs": [],
   "source": [
    "import serial\n",
    "import mysql.connector\n",
    "import os\n",
    "import re\n",
    "import face_recognition\n",
    "import cv2\n",
    "import numpy as np\n",
    "import time"
   ]
  },
  {
   "cell_type": "code",
   "execution_count": 6,
   "id": "65f145de",
   "metadata": {},
   "outputs": [],
   "source": [
    "ser = serial.Serial('COM3',9600)\n",
    "mydb = mysql.connector.connect(\n",
    "        host = \"localhost\",\n",
    "        user = \"root\",\n",
    "        passwd = \"\",\n",
    "        database = \"ASPS\",\n",
    ")\n",
    "myCourser = mydb.cursor()\n",
    "#14388655"
   ]
  },
  {
   "cell_type": "code",
   "execution_count": 13,
   "id": "d9bf88d3",
   "metadata": {},
   "outputs": [],
   "source": [
    "line = str(ser.readline())\n",
    "userPassword = \"\".join( re.findall(r'[0-9]' , line))\n",
    "if SelectUser(userPassword) != 0 :\n",
    "    res = SelectUser(userPassword)\n",
    "    email = res[2]\n",
    "    images = InnerJoin(email , userPassword)\n",
    "    encodeListKnown = findEncodeings(images)\n",
    "    Image_recg(encodeListKnown , email)\n",
    "else:\n",
    "    flag = '0' \n",
    "    ser.write(flag.encode('utf-8'))\n"
   ]
  },
  {
   "cell_type": "code",
   "execution_count": 3,
   "id": "ba02768d",
   "metadata": {
    "scrolled": true
   },
   "outputs": [],
   "source": [
    "########## function TO check pass(pass)############\n",
    "def SelectUser(passArd):\n",
    "    sql = \"SELECT * FROM `users` WHERE user_pass_ard = %s\"\n",
    "    adr = (passArd,)\n",
    "    myCourser.execute(sql,adr)\n",
    "    myresult = myCourser.fetchone()\n",
    "    if myresult != None:\n",
    "        return myresult\n",
    "    else: \n",
    "        return 0\n",
    "\n",
    "############### function TO Get Image of User  #################\n",
    "def InnerJoin(email , passArd):\n",
    "    sql = \"SELECT image_path FROM `users` INNER JOIN `images` ON email_user = %s WHERE user_pass_ard = %s\"\n",
    "    adr = (email,passArd)\n",
    "    myCourser.execute(sql,adr)\n",
    "    myresult = myCourser.fetchall()\n",
    "    Userimg = []\n",
    "    for img in myresult:\n",
    "        pic = \"\".join(img)\n",
    "        personimg = cv2.imread(f'../uploads/{pic}')\n",
    "        Userimg.append(personimg)\n",
    "    return Userimg\n",
    "\n",
    "\n",
    "\n",
    "def findEncodeings(images):\n",
    "    encodeList = []\n",
    "    for img in images:\n",
    "        img = cv2.cvtColor(img, cv2.COLOR_BGR2RGB)\n",
    "        encode = face_recognition.face_encodings(img)[0]\n",
    "        encodeList.append(encode)\n",
    "    return encodeList\n",
    "\n",
    "def Image_recg(encodeListKnown , email):\n",
    "    cap = cv2.VideoCapture(0)\n",
    "    while True :\n",
    "        _, img = cap.read()\n",
    "        if img.size == 0:\n",
    "            break\n",
    "        imgS = cv2.resize(img, (0,0), None, 0.25, 0.25)\n",
    "        imgS = cv2.cvtColor(imgS, cv2.COLOR_BGR2RGB)\n",
    "        if cv2.waitKey(1) & 0xFF == ord('q'):\n",
    "            break\n",
    "        faceCurentFrame = face_recognition.face_locations(imgS)\n",
    "        encodeCurentFrame = face_recognition.face_encodings(imgS, faceCurentFrame)\n",
    "        for encodeface, faceLoc in zip(encodeCurentFrame, faceCurentFrame):\n",
    "            matches = face_recognition.compare_faces(encodeListKnown, encodeface)\n",
    "            faceDis = face_recognition.face_distance(encodeListKnown, encodeface)\n",
    "            matchIndex = np.argmin(faceDis)\n",
    "\n",
    "        if matches[matchIndex]:\n",
    "            y1, x2, y2, x1 = faceLoc\n",
    "            y1, x2, y2, x1 = y1*4, x2*4, y2*4, x1*4\n",
    "            cv2.rectangle(img, (x1, y1), (x2, y2), (0,0,255), 2)\n",
    "            cv2.rectangle(img, (x1,y2-35), (x2,y2), (0,0,255), cv2.FILLED)\n",
    "            cv2.putText(img, email, (x1+6, y2-6), cv2.FONT_HERSHEY_COMPLEX, 1, (255,255,255), 2)\n",
    "#             InsertUser(email)\n",
    "            flag = '1'\n",
    "            ser.write(flag.encode('utf-8'))\n",
    "#             time.sleep(5)\n",
    "#             break\n",
    "        else:\n",
    "            flag = '0'\n",
    "            ser.write(flag.encode('utf-8'))\n",
    "#             cv2.imwrite('captured_image.jpg', img)\n",
    "        cv2.imshow('Face Recogntion', img)\n",
    "    cap.release()\n",
    "    cv2.destroyAllWindows()\n",
    "    \n",
    "##################### attendance #######################\n",
    "def InsertUser(email):\n",
    "    sql = \"INSERT INTO `attendance` (email_user , id_place) VALUES (%s, %s)\"\n",
    "    adr = (email,1)\n",
    "    myCourser.execute(sql,adr)\n",
    "    myCourser.rowcount \n",
    "    mydb.commit()\n",
    "       \n",
    "    "
   ]
  },
  {
   "cell_type": "code",
   "execution_count": 133,
   "id": "3017f152",
   "metadata": {},
   "outputs": [],
   "source": []
  },
  {
   "cell_type": "code",
   "execution_count": 121,
   "id": "7beae8a5",
   "metadata": {},
   "outputs": [],
   "source": []
  },
  {
   "cell_type": "code",
   "execution_count": 134,
   "id": "80a2d820",
   "metadata": {},
   "outputs": [],
   "source": []
  },
  {
   "cell_type": "code",
   "execution_count": null,
   "id": "304c46b6",
   "metadata": {},
   "outputs": [],
   "source": []
  },
  {
   "cell_type": "code",
   "execution_count": null,
   "id": "36c977d0",
   "metadata": {},
   "outputs": [],
   "source": []
  },
  {
   "cell_type": "code",
   "execution_count": null,
   "id": "01bf5996",
   "metadata": {},
   "outputs": [],
   "source": []
  },
  {
   "cell_type": "code",
   "execution_count": null,
   "id": "bd971d1a",
   "metadata": {},
   "outputs": [],
   "source": []
  },
  {
   "cell_type": "code",
   "execution_count": null,
   "id": "2b3adafe",
   "metadata": {},
   "outputs": [],
   "source": []
  },
  {
   "cell_type": "code",
   "execution_count": 99,
   "id": "d909fd1f",
   "metadata": {},
   "outputs": [
    {
     "data": {
      "text/plain": [
       "[True]"
      ]
     },
     "execution_count": 99,
     "metadata": {},
     "output_type": "execute_result"
    }
   ],
   "source": [
    "image = face_recognition.load_image_file(f'../uploads/64511060c0cab.jpg')\n",
    "biden_encoding = face_recognition.face_encodings(image)[0]\n",
    "Unkown_image = face_recognition.load_image_file(f'../uploads/64511060d8b77.jpg')\n",
    "person = face_recognition.face_encodings(Unkown_image)[0]\n",
    "results = face_recognition.compare_faces([biden_encoding], person)\n",
    "results"
   ]
  },
  {
   "cell_type": "code",
   "execution_count": 102,
   "id": "85a0ba70",
   "metadata": {},
   "outputs": [
    {
     "data": {
      "text/plain": [
       "[True]"
      ]
     },
     "execution_count": 102,
     "metadata": {},
     "output_type": "execute_result"
    }
   ],
   "source": [
    "curPersonn = cv2.imread(f'../uploads/64511060c0cab.jpg')\n",
    "biden_encoding = face_recognition.face_encodings(curPersonn)[0]\n",
    "unkown = cv2.imread(f'../uploads/64511060d8b77.jpg')\n",
    "person = face_recognition.face_encodings(unkown)[0]\n",
    "res = face_recognition.compare_faces([biden_encoding], person)\n",
    "res                                        "
   ]
  },
  {
   "cell_type": "code",
   "execution_count": 3,
   "id": "cb692907",
   "metadata": {},
   "outputs": [],
   "source": []
  },
  {
   "cell_type": "code",
   "execution_count": null,
   "id": "0d1d8bdc",
   "metadata": {},
   "outputs": [],
   "source": []
  },
  {
   "cell_type": "code",
   "execution_count": null,
   "id": "76c0913e",
   "metadata": {},
   "outputs": [],
   "source": []
  },
  {
   "cell_type": "code",
   "execution_count": null,
   "id": "3abc066e",
   "metadata": {},
   "outputs": [],
   "source": []
  },
  {
   "cell_type": "code",
   "execution_count": null,
   "id": "32cd6995",
   "metadata": {},
   "outputs": [],
   "source": []
  },
  {
   "cell_type": "code",
   "execution_count": null,
   "id": "b34f974e",
   "metadata": {},
   "outputs": [],
   "source": []
  }
 ],
 "metadata": {
  "kernelspec": {
   "display_name": "Python 3 (ipykernel)",
   "language": "python",
   "name": "python3"
  },
  "language_info": {
   "codemirror_mode": {
    "name": "ipython",
    "version": 3
   },
   "file_extension": ".py",
   "mimetype": "text/x-python",
   "name": "python",
   "nbconvert_exporter": "python",
   "pygments_lexer": "ipython3",
   "version": "3.9.13"
  }
 },
 "nbformat": 4,
 "nbformat_minor": 5
}
