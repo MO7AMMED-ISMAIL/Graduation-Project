{
 "cells": [
  {
   "cell_type": "code",
   "execution_count": 1,
   "id": "646d3670",
   "metadata": {},
   "outputs": [],
   "source": [
    "import serial\n",
    "import mysql.connector\n",
    "import re"
   ]
  },
  {
   "cell_type": "code",
   "execution_count": 3,
   "id": "65f145de",
   "metadata": {},
   "outputs": [],
   "source": [
    "ser = serial.Serial('COM3',9600)\n",
    "#14388655"
   ]
  },
  {
   "cell_type": "code",
   "execution_count": 14,
   "id": "d9bf88d3",
   "metadata": {},
   "outputs": [
    {
     "data": {
      "text/plain": [
       "'14388655'"
      ]
     },
     "execution_count": 14,
     "metadata": {},
     "output_type": "execute_result"
    }
   ],
   "source": [
    "data = ser.readline()\n",
    "data = str(data)\n",
    "userPassword"
   ]
  },
  {
   "cell_type": "code",
   "execution_count": 12,
   "id": "ba02768d",
   "metadata": {
    "scrolled": true
   },
   "outputs": [
    {
     "data": {
      "text/plain": [
       "('6408dc35bd7e4.jpg',)"
      ]
     },
     "execution_count": 12,
     "metadata": {},
     "output_type": "execute_result"
    }
   ],
   "source": [
    "##### function TO check pass(pass)\n",
    "mydb = mysql.connector.connect(\n",
    "        host = \"localhost\",\n",
    "        user = \"root\",\n",
    "        passwd = \"\",\n",
    "        database = \"ASPS\",\n",
    ")\n",
    "myCourser = mydb.cursor()\n",
    "def SelectUser(passArd):\n",
    "    sql = \"SELECT * FROM `users` WHERE user_pass_ard = %s\"\n",
    "    adr = (passArd,)\n",
    "    myCourser.execute(sql,adr)\n",
    "    myresult = myCourser.fetchone()\n",
    "    if myresult != None:\n",
    "        return myresult\n",
    "    else: \n",
    "        ser.write(b'RED')\n",
    "        return 0\n",
    "\n",
    "def InnerJoin(email , passArd):\n",
    "    sql = \"SELECT image_path FROM `users` INNER JOIN `images` ON email_user = %s WHERE user_pass_ard = %s\"\n",
    "    adr = (email,passArd)\n",
    "    myCourser.execute(sql,adr)\n",
    "    myresult = myCourser.fetchall()\n",
    "    return myresult\n",
    "\n",
    "if SelectUser(userPassword) != None :\n",
    "    res = SelectUser(userPassword)\n",
    "    email = res[2]\n",
    "    image = InnerJoin(email , userPassword)\n",
    "image[0]"
   ]
  },
  {
   "cell_type": "code",
   "execution_count": 3,
   "id": "3017f152",
   "metadata": {},
   "outputs": [],
   "source": [
    "##### function to FACE_REG(img)\n",
    "#def Face_rego():\n",
    "    \n",
    "\n",
    "\n",
    "\n",
    "\n",
    "\n",
    "\n",
    "\n",
    "\n",
    "\n"
   ]
  },
  {
   "cell_type": "code",
   "execution_count": null,
   "id": "7beae8a5",
   "metadata": {},
   "outputs": [],
   "source": []
  },
  {
   "cell_type": "code",
   "execution_count": 1,
   "id": "d909fd1f",
   "metadata": {},
   "outputs": [],
   "source": []
  },
  {
   "cell_type": "code",
   "execution_count": 2,
   "id": "85a0ba70",
   "metadata": {},
   "outputs": [],
   "source": []
  },
  {
   "cell_type": "code",
   "execution_count": 3,
   "id": "cb692907",
   "metadata": {},
   "outputs": [],
   "source": []
  },
  {
   "cell_type": "code",
   "execution_count": null,
   "id": "0d1d8bdc",
   "metadata": {},
   "outputs": [],
   "source": []
  },
  {
   "cell_type": "code",
   "execution_count": null,
   "id": "76c0913e",
   "metadata": {},
   "outputs": [],
   "source": []
  },
  {
   "cell_type": "code",
   "execution_count": null,
   "id": "3abc066e",
   "metadata": {},
   "outputs": [],
   "source": []
  },
  {
   "cell_type": "code",
   "execution_count": null,
   "id": "32cd6995",
   "metadata": {},
   "outputs": [],
   "source": []
  },
  {
   "cell_type": "code",
   "execution_count": null,
   "id": "b34f974e",
   "metadata": {},
   "outputs": [],
   "source": []
  }
 ],
 "metadata": {
  "kernelspec": {
   "display_name": "Python 3 (ipykernel)",
   "language": "python",
   "name": "python3"
  },
  "language_info": {
   "codemirror_mode": {
    "name": "ipython",
    "version": 3
   },
   "file_extension": ".py",
   "mimetype": "text/x-python",
   "name": "python",
   "nbconvert_exporter": "python",
   "pygments_lexer": "ipython3",
   "version": "3.9.13"
  }
 },
 "nbformat": 4,
 "nbformat_minor": 5
}
